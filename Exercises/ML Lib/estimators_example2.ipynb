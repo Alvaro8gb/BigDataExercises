{
 "cells": [
  {
   "cell_type": "code",
   "execution_count": 5,
   "id": "fe53ad95-21ef-45ca-b9ab-13302c0a9540",
   "metadata": {},
   "outputs": [],
   "source": [
    "from pyspark.sql import SparkSession\n",
    "from pyspark.ml.feature import VectorAssembler\n",
    "from pyspark.ml.feature import VectorAssembler\n",
    "from pyspark.ml.clustering import KMeans\n",
    "import matplotlib.pyplot as plt\n",
    "\n"
   ]
  },
  {
   "cell_type": "code",
   "execution_count": 2,
   "id": "05cb211e",
   "metadata": {},
   "outputs": [
    {
     "name": "stderr",
     "output_type": "stream",
     "text": [
      "23/12/18 18:31:24 WARN Utils: Your hostname, alvaro-ThinkPad-X1-Carbon-Gen-10 resolves to a loopback address: 127.0.1.1; using 10.156.4.72 instead (on interface wlp0s20f3)\n",
      "23/12/18 18:31:24 WARN Utils: Set SPARK_LOCAL_IP if you need to bind to another address\n",
      "Setting default log level to \"WARN\".\n",
      "To adjust logging level use sc.setLogLevel(newLevel). For SparkR, use setLogLevel(newLevel).\n",
      "23/12/18 18:31:24 WARN NativeCodeLoader: Unable to load native-hadoop library for your platform... using builtin-java classes where applicable\n"
     ]
    }
   ],
   "source": [
    "# Create a Spark session\n",
    "spark = SparkSession.builder.appName(\"VectorAssemblerExample\").getOrCreate()"
   ]
  },
  {
   "cell_type": "code",
   "execution_count": 3,
   "id": "76795e33-eb53-49b5-bea8-84a562ce96b6",
   "metadata": {},
   "outputs": [
    {
     "name": "stdout",
     "output_type": "stream",
     "text": [
      "+-----------+----------+\n",
      "|         x1|        x2|\n",
      "+-----------+----------+\n",
      "| 1.60193653|-1.8679101|\n",
      "| -1.1328963|-1.9607465|\n",
      "| 2.40675869|-1.5994823|\n",
      "| 0.09330145|-2.9446696|\n",
      "|  1.3795901|-2.5489864|\n",
      "|-0.42065496|-2.8165693|\n",
      "| 0.55753398|-2.0145494|\n",
      "|  1.3066549|-2.3208153|\n",
      "| 0.66224722|-0.9406476|\n",
      "| 1.19072851|-2.4178092|\n",
      "| 4.67961769| 1.6375689|\n",
      "| 5.03015133| 1.4575724|\n",
      "|  6.1003413| 2.1673923|\n",
      "| 4.20259176| 1.8237144|\n",
      "| 4.93339445| 1.8983999|\n",
      "| 6.70975052| 1.5899655|\n",
      "| 5.01461979| 1.6051478|\n",
      "| 5.00005277| 1.6855351|\n",
      "| 4.12926186| 2.0582398|\n",
      "+-----------+----------+\n",
      "\n"
     ]
    }
   ],
   "source": [
    "\n",
    "\n",
    "# Sample data\n",
    "data = [(1.60193653, -1.8679101),\n",
    "        (-1.1328963, -1.9607465),\n",
    "        (2.40675869, -1.5994823),\n",
    "        (0.09330145, -2.9446696),\n",
    "        (1.3795901, -2.5489864),\n",
    "        (-0.42065496, -2.8165693),\n",
    "        (0.55753398, -2.0145494),\n",
    "        (1.3066549, -2.3208153),\n",
    "        (0.66224722, -0.9406476),\n",
    "        (1.19072851, -2.4178092),\n",
    "        (4.67961769, 1.6375689),\n",
    "        (5.03015133, 1.4575724),\n",
    "        (6.1003413, 2.1673923),\n",
    "        (4.20259176, 1.8237144),\n",
    "        (4.93339445, 1.8983999),\n",
    "        (6.70975052, 1.5899655),\n",
    "        (5.01461979, 1.6051478),\n",
    "        (5.00005277, 1.6855351),\n",
    "        (4.12926186, 2.0582398)]\n",
    "\n",
    "columns = [\"x1\", \"x2\"]\n",
    "\n",
    "df2 = spark.createDataFrame(data, columns)\n",
    "\n",
    "df2.show()\n"
   ]
  },
  {
   "cell_type": "code",
   "execution_count": 7,
   "id": "6272b467-787f-43d4-aefa-603f9bfd8d0f",
   "metadata": {},
   "outputs": [
    {
     "name": "stdout",
     "output_type": "stream",
     "text": [
      "+-----------+----------+--------------------+\n",
      "|         x1|        x2|            features|\n",
      "+-----------+----------+--------------------+\n",
      "| 1.60193653|-1.8679101|[1.60193653,-1.86...|\n",
      "| -1.1328963|-1.9607465|[-1.1328963,-1.96...|\n",
      "| 2.40675869|-1.5994823|[2.40675869,-1.59...|\n",
      "| 0.09330145|-2.9446696|[0.09330145,-2.94...|\n",
      "|  1.3795901|-2.5489864|[1.3795901,-2.548...|\n",
      "|-0.42065496|-2.8165693|[-0.42065496,-2.8...|\n",
      "| 0.55753398|-2.0145494|[0.55753398,-2.01...|\n",
      "|  1.3066549|-2.3208153|[1.3066549,-2.320...|\n",
      "| 0.66224722|-0.9406476|[0.66224722,-0.94...|\n",
      "| 1.19072851|-2.4178092|[1.19072851,-2.41...|\n",
      "| 4.67961769| 1.6375689|[4.67961769,1.637...|\n",
      "| 5.03015133| 1.4575724|[5.03015133,1.457...|\n",
      "|  6.1003413| 2.1673923|[6.1003413,2.1673...|\n",
      "| 4.20259176| 1.8237144|[4.20259176,1.823...|\n",
      "| 4.93339445| 1.8983999|[4.93339445,1.898...|\n",
      "| 6.70975052| 1.5899655|[6.70975052,1.589...|\n",
      "| 5.01461979| 1.6051478|[5.01461979,1.605...|\n",
      "| 5.00005277| 1.6855351|[5.00005277,1.685...|\n",
      "| 4.12926186| 2.0582398|[4.12926186,2.058...|\n",
      "+-----------+----------+--------------------+\n",
      "\n"
     ]
    }
   ],
   "source": [
    "# Create a VectorAssembler\n",
    "assembler = VectorAssembler(inputCols=[\"x1\", \"x2\"], outputCol=\"features\")\n",
    "dataset = assembler.transform(df2)\n",
    "\n",
    "dataset.show()"
   ]
  },
  {
   "cell_type": "code",
   "execution_count": 8,
   "id": "fe17ba09",
   "metadata": {},
   "outputs": [
    {
     "name": "stdout",
     "output_type": "stream",
     "text": [
      "Cluster Centers: \n",
      "[5.08886461 1.76928179]\n",
      "[ 0.76452001 -2.14321857]\n"
     ]
    }
   ],
   "source": [
    "# Create K-Means model\n",
    "kmeans = KMeans(featuresCol=\"features\", k=2)\n",
    "model = kmeans.fit(dataset)\n",
    "\n",
    "# Print cluster centers\n",
    "print(\"Cluster Centers: \")\n",
    "for center in model.clusterCenters():\n",
    "    print(center)\n",
    "\n",
    "\n",
    "##### USE THE MODEL EXAMPLE"
   ]
  },
  {
   "cell_type": "code",
   "execution_count": 10,
   "id": "356d435c",
   "metadata": {},
   "outputs": [
    {
     "ename": "AnalysisException",
     "evalue": "[UNRESOLVED_COLUMN.WITH_SUGGESTION] A column or function parameter with name `prdiction` cannot be resolved. Did you mean one of the following? [`x1`, `x2`, `features`].;\n'Project [features#128, 'prdiction]\n+- Project [x1#0, x2#1, UDF(struct(x1, x1#0, x2, x2#1)) AS features#128]\n   +- LogicalRDD [x1#0, x2#1], false\n",
     "output_type": "error",
     "traceback": [
      "\u001b[0;31m---------------------------------------------------------------------------\u001b[0m",
      "\u001b[0;31mAnalysisException\u001b[0m                         Traceback (most recent call last)",
      "Cell \u001b[0;32mIn[10], line 1\u001b[0m\n\u001b[0;32m----> 1\u001b[0m result \u001b[38;5;241m=\u001b[39m \u001b[43mdataset\u001b[49m\u001b[38;5;241;43m.\u001b[39;49m\u001b[43mselect\u001b[49m\u001b[43m(\u001b[49m\u001b[38;5;124;43m\"\u001b[39;49m\u001b[38;5;124;43mfeatures\u001b[39;49m\u001b[38;5;124;43m\"\u001b[39;49m\u001b[43m,\u001b[49m\u001b[43m \u001b[49m\u001b[38;5;124;43m\"\u001b[39;49m\u001b[38;5;124;43mprdiction\u001b[39;49m\u001b[38;5;124;43m\"\u001b[39;49m\u001b[43m)\u001b[49m\u001b[38;5;241m.\u001b[39mtoPandas()\n",
      "File \u001b[0;32m~/Desktop/BigData/venv/lib/python3.10/site-packages/pyspark/sql/dataframe.py:3223\u001b[0m, in \u001b[0;36mDataFrame.select\u001b[0;34m(self, *cols)\u001b[0m\n\u001b[1;32m   3178\u001b[0m \u001b[38;5;28;01mdef\u001b[39;00m \u001b[38;5;21mselect\u001b[39m(\u001b[38;5;28mself\u001b[39m, \u001b[38;5;241m*\u001b[39mcols: \u001b[38;5;124m\"\u001b[39m\u001b[38;5;124mColumnOrName\u001b[39m\u001b[38;5;124m\"\u001b[39m) \u001b[38;5;241m-\u001b[39m\u001b[38;5;241m>\u001b[39m \u001b[38;5;124m\"\u001b[39m\u001b[38;5;124mDataFrame\u001b[39m\u001b[38;5;124m\"\u001b[39m:  \u001b[38;5;66;03m# type: ignore[misc]\u001b[39;00m\n\u001b[1;32m   3179\u001b[0m \u001b[38;5;250m    \u001b[39m\u001b[38;5;124;03m\"\"\"Projects a set of expressions and returns a new :class:`DataFrame`.\u001b[39;00m\n\u001b[1;32m   3180\u001b[0m \n\u001b[1;32m   3181\u001b[0m \u001b[38;5;124;03m    .. versionadded:: 1.3.0\u001b[39;00m\n\u001b[0;32m   (...)\u001b[0m\n\u001b[1;32m   3221\u001b[0m \u001b[38;5;124;03m    +-----+---+\u001b[39;00m\n\u001b[1;32m   3222\u001b[0m \u001b[38;5;124;03m    \"\"\"\u001b[39;00m\n\u001b[0;32m-> 3223\u001b[0m     jdf \u001b[38;5;241m=\u001b[39m \u001b[38;5;28;43mself\u001b[39;49m\u001b[38;5;241;43m.\u001b[39;49m\u001b[43m_jdf\u001b[49m\u001b[38;5;241;43m.\u001b[39;49m\u001b[43mselect\u001b[49m\u001b[43m(\u001b[49m\u001b[38;5;28;43mself\u001b[39;49m\u001b[38;5;241;43m.\u001b[39;49m\u001b[43m_jcols\u001b[49m\u001b[43m(\u001b[49m\u001b[38;5;241;43m*\u001b[39;49m\u001b[43mcols\u001b[49m\u001b[43m)\u001b[49m\u001b[43m)\u001b[49m\n\u001b[1;32m   3224\u001b[0m     \u001b[38;5;28;01mreturn\u001b[39;00m DataFrame(jdf, \u001b[38;5;28mself\u001b[39m\u001b[38;5;241m.\u001b[39msparkSession)\n",
      "File \u001b[0;32m~/Desktop/BigData/venv/lib/python3.10/site-packages/py4j/java_gateway.py:1322\u001b[0m, in \u001b[0;36mJavaMember.__call__\u001b[0;34m(self, *args)\u001b[0m\n\u001b[1;32m   1316\u001b[0m command \u001b[38;5;241m=\u001b[39m proto\u001b[38;5;241m.\u001b[39mCALL_COMMAND_NAME \u001b[38;5;241m+\u001b[39m\\\n\u001b[1;32m   1317\u001b[0m     \u001b[38;5;28mself\u001b[39m\u001b[38;5;241m.\u001b[39mcommand_header \u001b[38;5;241m+\u001b[39m\\\n\u001b[1;32m   1318\u001b[0m     args_command \u001b[38;5;241m+\u001b[39m\\\n\u001b[1;32m   1319\u001b[0m     proto\u001b[38;5;241m.\u001b[39mEND_COMMAND_PART\n\u001b[1;32m   1321\u001b[0m answer \u001b[38;5;241m=\u001b[39m \u001b[38;5;28mself\u001b[39m\u001b[38;5;241m.\u001b[39mgateway_client\u001b[38;5;241m.\u001b[39msend_command(command)\n\u001b[0;32m-> 1322\u001b[0m return_value \u001b[38;5;241m=\u001b[39m \u001b[43mget_return_value\u001b[49m\u001b[43m(\u001b[49m\n\u001b[1;32m   1323\u001b[0m \u001b[43m    \u001b[49m\u001b[43manswer\u001b[49m\u001b[43m,\u001b[49m\u001b[43m \u001b[49m\u001b[38;5;28;43mself\u001b[39;49m\u001b[38;5;241;43m.\u001b[39;49m\u001b[43mgateway_client\u001b[49m\u001b[43m,\u001b[49m\u001b[43m \u001b[49m\u001b[38;5;28;43mself\u001b[39;49m\u001b[38;5;241;43m.\u001b[39;49m\u001b[43mtarget_id\u001b[49m\u001b[43m,\u001b[49m\u001b[43m \u001b[49m\u001b[38;5;28;43mself\u001b[39;49m\u001b[38;5;241;43m.\u001b[39;49m\u001b[43mname\u001b[49m\u001b[43m)\u001b[49m\n\u001b[1;32m   1325\u001b[0m \u001b[38;5;28;01mfor\u001b[39;00m temp_arg \u001b[38;5;129;01min\u001b[39;00m temp_args:\n\u001b[1;32m   1326\u001b[0m     \u001b[38;5;28;01mif\u001b[39;00m \u001b[38;5;28mhasattr\u001b[39m(temp_arg, \u001b[38;5;124m\"\u001b[39m\u001b[38;5;124m_detach\u001b[39m\u001b[38;5;124m\"\u001b[39m):\n",
      "File \u001b[0;32m~/Desktop/BigData/venv/lib/python3.10/site-packages/pyspark/errors/exceptions/captured.py:185\u001b[0m, in \u001b[0;36mcapture_sql_exception.<locals>.deco\u001b[0;34m(*a, **kw)\u001b[0m\n\u001b[1;32m    181\u001b[0m converted \u001b[38;5;241m=\u001b[39m convert_exception(e\u001b[38;5;241m.\u001b[39mjava_exception)\n\u001b[1;32m    182\u001b[0m \u001b[38;5;28;01mif\u001b[39;00m \u001b[38;5;129;01mnot\u001b[39;00m \u001b[38;5;28misinstance\u001b[39m(converted, UnknownException):\n\u001b[1;32m    183\u001b[0m     \u001b[38;5;66;03m# Hide where the exception came from that shows a non-Pythonic\u001b[39;00m\n\u001b[1;32m    184\u001b[0m     \u001b[38;5;66;03m# JVM exception message.\u001b[39;00m\n\u001b[0;32m--> 185\u001b[0m     \u001b[38;5;28;01mraise\u001b[39;00m converted \u001b[38;5;28;01mfrom\u001b[39;00m \u001b[38;5;28;01mNone\u001b[39;00m\n\u001b[1;32m    186\u001b[0m \u001b[38;5;28;01melse\u001b[39;00m:\n\u001b[1;32m    187\u001b[0m     \u001b[38;5;28;01mraise\u001b[39;00m\n",
      "\u001b[0;31mAnalysisException\u001b[0m: [UNRESOLVED_COLUMN.WITH_SUGGESTION] A column or function parameter with name `prdiction` cannot be resolved. Did you mean one of the following? [`x1`, `x2`, `features`].;\n'Project [features#128, 'prdiction]\n+- Project [x1#0, x2#1, UDF(struct(x1, x1#0, x2, x2#1)) AS features#128]\n   +- LogicalRDD [x1#0, x2#1], false\n"
     ]
    }
   ],
   "source": [
    "result = dataset.select(\"features\", \"prdiction\").toPandas()"
   ]
  },
  {
   "cell_type": "code",
   "execution_count": null,
   "id": "24cfc7e6",
   "metadata": {},
   "outputs": [],
   "source": [
    "# Visualize the data\n",
    "plt.scatter(result[\"feature1\"], result[\"feature2\"], c=result[\"prediction\"], cmap=\"viridis\")\n",
    "plt.scatter(model.clusterCenters()[:, 0], model.clusterCenters()[:, 1], marker=\"x\", s=200, linewidths=3, color=\"r\")\n",
    "plt.xlabel(\"Feature 1\")\n",
    "plt.ylabel(\"Feature 2\")\n",
    "plt.title(\"KMeans Clustering Results\")\n",
    "plt.show()"
   ]
  },
  {
   "cell_type": "code",
   "execution_count": null,
   "id": "3fddc559",
   "metadata": {},
   "outputs": [],
   "source": [
    "# Stop the Spark session\n",
    "spark.stop()"
   ]
  },
  {
   "cell_type": "code",
   "execution_count": null,
   "id": "0b32d4cf",
   "metadata": {},
   "outputs": [],
   "source": []
  }
 ],
 "metadata": {
  "kernelspec": {
   "display_name": "Python 3 (ipykernel)",
   "language": "python",
   "name": "python3"
  },
  "language_info": {
   "codemirror_mode": {
    "name": "ipython",
    "version": 3
   },
   "file_extension": ".py",
   "mimetype": "text/x-python",
   "name": "python",
   "nbconvert_exporter": "python",
   "pygments_lexer": "ipython3",
   "version": "3.10.12"
  }
 },
 "nbformat": 4,
 "nbformat_minor": 5
}
