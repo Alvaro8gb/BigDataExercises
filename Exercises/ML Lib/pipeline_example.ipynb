{
 "cells": [
  {
   "cell_type": "code",
   "execution_count": 5,
   "id": "fe53ad95-21ef-45ca-b9ab-13302c0a9540",
   "metadata": {},
   "outputs": [],
   "source": [
    "from pyspark.sql import SparkSession\n",
    "from pyspark.ml.feature import Normalizer\n",
    "from pyspark.ml.clustering import KMeans\n",
    "from pyspark.ml import Pipeline\n",
    "from pyspark.ml.feature import VectorAssembler\n",
    "\n"
   ]
  },
  {
   "cell_type": "code",
   "execution_count": 2,
   "id": "6317f17c",
   "metadata": {},
   "outputs": [
    {
     "name": "stderr",
     "output_type": "stream",
     "text": [
      "23/12/18 18:29:02 WARN Utils: Your hostname, alvaro-ThinkPad-X1-Carbon-Gen-10 resolves to a loopback address: 127.0.1.1; using 10.156.4.72 instead (on interface wlp0s20f3)\n",
      "23/12/18 18:29:02 WARN Utils: Set SPARK_LOCAL_IP if you need to bind to another address\n",
      "Setting default log level to \"WARN\".\n",
      "To adjust logging level use sc.setLogLevel(newLevel). For SparkR, use setLogLevel(newLevel).\n",
      "23/12/18 18:29:02 WARN NativeCodeLoader: Unable to load native-hadoop library for your platform... using builtin-java classes where applicable\n",
      "23/12/18 18:29:03 WARN Utils: Service 'SparkUI' could not bind on port 4040. Attempting port 4041.\n",
      "23/12/18 18:29:03 WARN Utils: Service 'SparkUI' could not bind on port 4041. Attempting port 4042.\n"
     ]
    }
   ],
   "source": [
    "\n",
    "# Create a Spark session\n",
    "spark = SparkSession.builder.appName(\"VectorAssemblerExample\").getOrCreate()"
   ]
  },
  {
   "cell_type": "code",
   "execution_count": 3,
   "id": "76795e33-eb53-49b5-bea8-84a562ce96b6",
   "metadata": {},
   "outputs": [],
   "source": [
    "\n",
    "\n",
    "# Sample data\n",
    "data = [(1.60193653, -1.8679101),\n",
    "        (-1.1328963, -1.9607465),\n",
    "        (2.40675869, -1.5994823),\n",
    "        (0.09330145, -2.9446696),\n",
    "        (1.3795901, -2.5489864),\n",
    "        (-0.42065496, -2.8165693),\n",
    "        (0.55753398, -2.0145494),\n",
    "        (1.3066549, -2.3208153),\n",
    "        (0.66224722, -0.9406476),\n",
    "        (1.19072851, -2.4178092),\n",
    "        (4.67961769, 1.6375689),\n",
    "        (5.03015133, 1.4575724),\n",
    "        (6.1003413, 2.1673923),\n",
    "        (4.20259176, 1.8237144),\n",
    "        (4.93339445, 1.8983999),\n",
    "        (6.70975052, 1.5899655),\n",
    "        (5.01461979, 1.6051478),\n",
    "        (5.00005277, 1.6855351),\n",
    "        (4.12926186, 2.0582398)]\n",
    "\n",
    "columns = [\"x1\", \"x2\"]\n",
    "\n",
    "df2 = spark.createDataFrame(data, columns)\n",
    "# Split the data into training and testing sets\n",
    "split = df2.randomSplit([0.7, 0.3])  # ESTO no tiene sentido en clustering\n",
    "training = split[0]\n",
    "test = split[1]"
   ]
  },
  {
   "cell_type": "code",
   "execution_count": 6,
   "id": "b80ebdc0-6119-45ca-9dae-17462acf302e",
   "metadata": {},
   "outputs": [
    {
     "name": "stderr",
     "output_type": "stream",
     "text": [
      "                                                                                \r"
     ]
    },
    {
     "name": "stdout",
     "output_type": "stream",
     "text": [
      "+----------+----------+-----------------------+----------------------------------------+----------+\n",
      "|x1        |x2        |features               |normFeatures                            |prediction|\n",
      "+----------+----------+-----------------------+----------------------------------------+----------+\n",
      "|1.19072851|-2.4178092|[1.19072851,-2.4178092]|[0.3299753544767584,-0.6700246455232416]|0         |\n",
      "|5.01461979|1.6051478 |[5.01461979,1.6051478] |[0.7575220310717887,0.24247796892821125]|1         |\n",
      "+----------+----------+-----------------------+----------------------------------------+----------+\n",
      "\n"
     ]
    }
   ],
   "source": [
    "\n",
    "# Create the Vector Assembler\n",
    "assembler = VectorAssembler(inputCols=[\"x1\", \"x2\"], outputCol=\"features\")\n",
    "\n",
    "# Create a Normalizer\n",
    "normalizer = Normalizer(inputCol=\"features\", outputCol=\"normFeatures\", p=1.0)\n",
    "\n",
    "# Create a K-Means model\n",
    "kmeans = KMeans(featuresCol=\"features\", k=2)\n",
    "\n",
    "# Create a Pipeline\n",
    "pipeline = Pipeline(stages=[assembler,normalizer, kmeans])\n",
    "\n",
    "# Fit the Pipeline on the training data\n",
    "model = pipeline.fit(df2)\n",
    "\n",
    "# Transform the test data and show the results\n",
    "transformed_data = model.transform(test)\n",
    "transformed_data.show(truncate=False)"
   ]
  }
 ],
 "metadata": {
  "kernelspec": {
   "display_name": "Python 3 (ipykernel)",
   "language": "python",
   "name": "python3"
  },
  "language_info": {
   "codemirror_mode": {
    "name": "ipython",
    "version": 3
   },
   "file_extension": ".py",
   "mimetype": "text/x-python",
   "name": "python",
   "nbconvert_exporter": "python",
   "pygments_lexer": "ipython3",
   "version": "3.10.12"
  }
 },
 "nbformat": 4,
 "nbformat_minor": 5
}
