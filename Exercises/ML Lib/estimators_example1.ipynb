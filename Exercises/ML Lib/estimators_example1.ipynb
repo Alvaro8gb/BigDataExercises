{
 "cells": [
  {
   "cell_type": "code",
   "execution_count": 6,
   "id": "fe53ad95-21ef-45ca-b9ab-13302c0a9540",
   "metadata": {},
   "outputs": [],
   "source": [
    "from pyspark.sql import SparkSession\n",
    "from pyspark.ml.feature import VectorAssembler\n",
    "from pyspark.ml.regression import LinearRegression"
   ]
  },
  {
   "cell_type": "code",
   "execution_count": 8,
   "id": "9c6fc1a6",
   "metadata": {},
   "outputs": [],
   "source": [
    "# Create a Spark session\n",
    "spark = SparkSession.builder.appName(\"VectorAssemblerExample\").getOrCreate()"
   ]
  },
  {
   "cell_type": "code",
   "execution_count": 11,
   "id": "30e6bf63",
   "metadata": {},
   "outputs": [
    {
     "name": "stdout",
     "output_type": "stream",
     "text": [
      "+----------+----------+----------+\n",
      "|        x1|        x2|         y|\n",
      "+----------+----------+----------+\n",
      "|-3.0965012| 5.2371198|-0.7370271|\n",
      "|-0.2100299|-0.7810844|-1.3284768|\n",
      "| 8.3525083| 5.3337562|21.8897181|\n",
      "|-3.0380369|  6.535718|  0.346982|\n",
      "| 5.9354651| 6.0223208|17.9566144|\n",
      "|-6.8357707| 5.6629804|-8.1598308|\n",
      "| 8.8919844|-2.5149762|15.3622538|\n",
      "| 6.3404984| 4.1778706|16.7931822|\n",
      "+----------+----------+----------+\n",
      "\n"
     ]
    }
   ],
   "source": [
    "\n",
    "# Sample data\n",
    "data = [(-3.0965012, 5.2371198, -0.7370271),\n",
    "        (-0.2100299, -0.7810844, -1.3284768),\n",
    "        (8.3525083, 5.3337562, 21.8897181),\n",
    "        (-3.0380369, 6.5357180, 0.3469820),\n",
    "        (5.9354651, 6.0223208, 17.9566144),\n",
    "        (-6.8357707, 5.6629804, -8.1598308),\n",
    "        (8.8919844, -2.5149762, 15.3622538),\n",
    "        (6.3404984, 4.1778706, 16.7931822)]\n",
    "\n",
    "columns = [\"x1\", \"x2\", \"y\"]\n",
    "\n",
    "df = spark.createDataFrame(data, columns)\n",
    "df.show()"
   ]
  },
  {
   "cell_type": "code",
   "execution_count": 12,
   "id": "76795e33-eb53-49b5-bea8-84a562ce96b6",
   "metadata": {},
   "outputs": [
    {
     "name": "stdout",
     "output_type": "stream",
     "text": [
      "+----------+----------+----------+--------------------+\n",
      "|        x1|        x2|         y|            features|\n",
      "+----------+----------+----------+--------------------+\n",
      "|-3.0965012| 5.2371198|-0.7370271|[-3.0965012,5.237...|\n",
      "|-0.2100299|-0.7810844|-1.3284768|[-0.2100299,-0.78...|\n",
      "| 8.3525083| 5.3337562|21.8897181|[8.3525083,5.3337...|\n",
      "|-3.0380369|  6.535718|  0.346982|[-3.0380369,6.535...|\n",
      "| 5.9354651| 6.0223208|17.9566144|[5.9354651,6.0223...|\n",
      "|-6.8357707| 5.6629804|-8.1598308|[-6.8357707,5.662...|\n",
      "| 8.8919844|-2.5149762|15.3622538|[8.8919844,-2.514...|\n",
      "| 6.3404984| 4.1778706|16.7931822|[6.3404984,4.1778...|\n",
      "+----------+----------+----------+--------------------+\n",
      "\n"
     ]
    }
   ],
   "source": [
    "# Create a VectorAssembler\n",
    "assembler = VectorAssembler(inputCols=[\"x1\", \"x2\"], outputCol=\"features\")\n",
    "\n",
    "# Transform the DataFrame\n",
    "df = assembler.transform(df)\n",
    "\n",
    "# Check the df\n",
    "df.show()\n"
   ]
  },
  {
   "cell_type": "code",
   "execution_count": 13,
   "id": "b80ebdc0-6119-45ca-9dae-17462acf302e",
   "metadata": {},
   "outputs": [
    {
     "name": "stderr",
     "output_type": "stream",
     "text": [
      "23/12/18 18:27:33 WARN Instrumentation: [7281b388] regParam is zero, which might cause numerical instability and overfitting.\n"
     ]
    },
    {
     "name": "stdout",
     "output_type": "stream",
     "text": [
      "Coefficients: [2.0021398601708835,0.9962345581488143]\n",
      "Intercept: -0.01921941939824674\n",
      "numIterations: 0\n",
      "+--------------------+\n",
      "|           residuals|\n",
      "+--------------------+\n",
      "|  0.2644210690598129|\n",
      "| -0.1106048738731169|\n",
      "|-0.12762453162039478|\n",
      "|-0.06233194035702172|\n",
      "| 0.09255845281667163|\n",
      "| -0.0960991637429256|\n",
      "|  0.0839830195023552|\n",
      "|-0.04430203178538...|\n",
      "+--------------------+\n",
      "\n",
      "RMSE: 0.1270546957968156\n",
      "r2: 0.999857490279687\n"
     ]
    }
   ],
   "source": [
    "\n",
    "# Create a LinearRegression model\n",
    "lr = LinearRegression(featuresCol=\"features\", labelCol=\"y\", maxIter=10, elasticNetParam=0.8)\n",
    "\n",
    "# Fit the model to the data\n",
    "lrModel = lr.fit(df)\n",
    "\n",
    "# Print model coefficients and intercept\n",
    "print(f\"Coefficients: {lrModel.coefficients}\")\n",
    "print(f\"Intercept: {lrModel.intercept}\")\n",
    "\n",
    "# Get training summary\n",
    "trainingSummary = lrModel.summary\n",
    "\n",
    "# Print summary statistics\n",
    "print(f\"numIterations: {trainingSummary.totalIterations}\")\n",
    "trainingSummary.residuals.show()\n",
    "print(f\"RMSE: {trainingSummary.rootMeanSquaredError}\")\n",
    "print(f\"r2: {trainingSummary.r2}\")\n"
   ]
  },
  {
   "cell_type": "code",
   "execution_count": null,
   "id": "babece19",
   "metadata": {},
   "outputs": [],
   "source": [
    "spark.stop() # Stop the Spark session"
   ]
  }
 ],
 "metadata": {
  "kernelspec": {
   "display_name": "Python 3 (ipykernel)",
   "language": "python",
   "name": "python3"
  },
  "language_info": {
   "codemirror_mode": {
    "name": "ipython",
    "version": 3
   },
   "file_extension": ".py",
   "mimetype": "text/x-python",
   "name": "python",
   "nbconvert_exporter": "python",
   "pygments_lexer": "ipython3",
   "version": "3.10.12"
  }
 },
 "nbformat": 4,
 "nbformat_minor": 5
}
