{
 "cells": [
  {
   "cell_type": "code",
   "execution_count": 1,
   "id": "2720c580-5cae-4e95-acc8-513899af8603",
   "metadata": {},
   "outputs": [
    {
     "name": "stderr",
     "output_type": "stream",
     "text": [
      "23/12/21 11:01:56 WARN Utils: Your hostname, alvaro-ThinkPad-X1-Carbon-Gen-10 resolves to a loopback address: 127.0.1.1; using 192.168.1.130 instead (on interface wlp0s20f3)\n",
      "23/12/21 11:01:56 WARN Utils: Set SPARK_LOCAL_IP if you need to bind to another address\n",
      "Setting default log level to \"WARN\".\n",
      "To adjust logging level use sc.setLogLevel(newLevel). For SparkR, use setLogLevel(newLevel).\n",
      "23/12/21 11:01:56 WARN NativeCodeLoader: Unable to load native-hadoop library for your platform... using builtin-java classes where applicable\n",
      "23/12/21 11:01:57 WARN Utils: Service 'SparkUI' could not bind on port 4040. Attempting port 4041.\n"
     ]
    }
   ],
   "source": [
    "# Create Spark Context with SparkConf\n",
    "from pyspark import SparkConf, SparkContext\n",
    "conf = SparkConf()\n",
    "sc = SparkContext.getOrCreate(conf)\n"
   ]
  },
  {
   "cell_type": "code",
   "execution_count": 2,
   "id": "04fd9644-c7c8-41c7-b3df-583e432404c5",
   "metadata": {},
   "outputs": [],
   "source": [
    "# Excercise 1\n",
    "# Add the phone prefix to the numbers using as reference the International Calling Codes\n",
    "# Use a Broadcast Variable\n",
    "\n",
    "input_data = [(\"Simón\",\"Bolivar\",\"VEN\",\"489 895 965\"),\n",
    "    (\"Fidel\",\"Castro\",\"CU\",\"956 268 348\"),\n",
    "    (\"Jose\",\"Doroteo\",\"MEX\",\"985 621 444\"),\n",
    "    (\"Ernesto\",\"Guevara\",\"AR\",\"895 325 481\"),\n",
    "    (\"Hugo\",\"Chávez\",\"VE\",\"489 895 965\"),\n",
    "    (\"Camilo\",\"Cienfuegos\",\"CUB\",\"956 268 348\"),\n",
    "    (\"Andrés Manuel\",\"López\",\"ME\",\"985 621 444\"),\n",
    "    (\"Juan Domingo\",\"Perón\",\"ARG\",\"985 621 444\"),\n",
    "  ]\n",
    "\n",
    "rdd = sc.parallelize(input_data)"
   ]
  },
  {
   "cell_type": "code",
   "execution_count": 3,
   "id": "5cf29d59-1e03-4100-ac7f-d14c24802e98",
   "metadata": {},
   "outputs": [
    {
     "name": "stdout",
     "output_type": "stream",
     "text": [
      "('Simón', 'Bolivar', 'VEN', '+58489 895 965')\n",
      "('Fidel', 'Castro', 'CU', '+53956 268 348')\n",
      "('Jose', 'Doroteo', 'MEX', '+52985 621 444')\n",
      "('Ernesto', 'Guevara', 'AR', '+54895 325 481')\n",
      "('Hugo', 'Chávez', 'VE', '+58489 895 965')\n",
      "('Camilo', 'Cienfuegos', 'CUB', '+53956 268 348')\n",
      "('Andrés Manuel', 'López', 'ME', '+52985 621 444')\n",
      "('Juan Domingo', 'Perón', 'ARG', '+54985 621 444')\n"
     ]
    }
   ],
   "source": [
    "# Define the phone prefixes as a dictionary\n",
    "calling_codes = {\n",
    "    \"VEN\": \"+58\",\n",
    "    \"CU\": \"+53\",\n",
    "    \"MEX\": \"+52\",\n",
    "    \"AR\": \"+54\",\n",
    "    \"VE\": \"+58\",\n",
    "    \"CUB\": \"+53\",\n",
    "    \"ME\": \"+52\",\n",
    "    \"ARG\": \"+54\",\n",
    "}\n",
    "\n",
    "# Broadcast the calling codes\n",
    "broadcast_codes = sc.broadcast(calling_codes)\n",
    "\n",
    "# Function to add the phone prefix using the broadcast variable\n",
    "def add_phone_prefix(record):\n",
    "    first_name, last_name, country_code, phone_number = record\n",
    "    prefix = broadcast_codes.value.get(country_code, \"\")\n",
    "    return (first_name, last_name, country_code, prefix + phone_number)\n",
    "\n",
    "# Map the RDD using the broadcast variable\n",
    "result_rdd = rdd.map(add_phone_prefix)\n",
    "\n",
    "# Show the result\n",
    "result_data = result_rdd.collect()\n",
    "for record in result_data:\n",
    "    print(record)"
   ]
  },
  {
   "cell_type": "code",
   "execution_count": 4,
   "id": "d8203980-5c79-4ea4-aa71-89116ed64048",
   "metadata": {},
   "outputs": [],
   "source": [
    "# Excercise 2\n",
    "# Count the number of times the word 'to' appears in a line and the number of lines in the bible.txt file\n",
    "# Use Accumulators\n",
    "\n",
    "input_file_path=\"bible.txt\"\n",
    "rdd = sc.textFile(input_file_path)"
   ]
  },
  {
   "cell_type": "code",
   "execution_count": null,
   "id": "0e2cb4bb-b69f-408a-b911-490fb3354c2c",
   "metadata": {},
   "outputs": [],
   "source": []
  },
  {
   "cell_type": "code",
   "execution_count": 7,
   "id": "80da84d3-032d-4a1a-a122-9b15f3b19b4e",
   "metadata": {},
   "outputs": [],
   "source": [
    "# Excercise 3\n",
    "# Write the RDD containing the pagecounts dataset \n",
    "# Write the RDD but with only 2 partitions+\n",
    "# Use Repartition\n",
    "\n",
    "input_file_path=\"pagecounts\"\n",
    "rdd = sc.textFile(input_file_path)"
   ]
  },
  {
   "cell_type": "code",
   "execution_count": null,
   "id": "5fb8aebe-544d-451a-9e60-336ca2670ba9",
   "metadata": {},
   "outputs": [],
   "source": []
  },
  {
   "cell_type": "code",
   "execution_count": 9,
   "id": "5f36a976-62ce-491f-887c-76e3f4ddb1d2",
   "metadata": {},
   "outputs": [],
   "source": [
    "# Excercise 4\n",
    "# Check the differences in computation time when using cache method on an RDD\n",
    "# Read pagecount files and count lines with and without using cache method\n",
    "# show the time differences\n",
    "# Use Cache\n",
    "\n",
    "import time\n",
    "input_file_path=\"pagecounts\"\n",
    "rdd = sc.textFile(input_file_path)"
   ]
  },
  {
   "cell_type": "code",
   "execution_count": null,
   "id": "51523803-deea-4aaa-b240-47e75bce483d",
   "metadata": {},
   "outputs": [],
   "source": [
    "# Excercise 5\n",
    "# use spark-submit to launch the app.py file by yourself\n",
    "# :)"
   ]
  },
  {
   "cell_type": "code",
   "execution_count": 5,
   "id": "67d36129-0b5f-4c19-9f6d-f2f24cb38513",
   "metadata": {},
   "outputs": [],
   "source": [
    "sc.stop()"
   ]
  }
 ],
 "metadata": {
  "kernelspec": {
   "display_name": "Python 3 (ipykernel)",
   "language": "python",
   "name": "python3"
  },
  "language_info": {
   "codemirror_mode": {
    "name": "ipython",
    "version": 3
   },
   "file_extension": ".py",
   "mimetype": "text/x-python",
   "name": "python",
   "nbconvert_exporter": "python",
   "pygments_lexer": "ipython3",
   "version": "3.10.12"
  }
 },
 "nbformat": 4,
 "nbformat_minor": 5
}
