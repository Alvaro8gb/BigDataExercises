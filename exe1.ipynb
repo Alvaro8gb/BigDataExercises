{
 "cells": [
  {
   "cell_type": "code",
   "execution_count": 11,
   "metadata": {},
   "outputs": [],
   "source": [
    "import os\n",
    "from pyspark.sql import SparkSession\n",
    "\n",
    "# Create a Spark session\n",
    "spark = SparkSession.builder \\\n",
    "    .appName(\"example\") \\\n",
    "    .getOrCreate()\n"
   ]
  },
  {
   "cell_type": "code",
   "execution_count": 12,
   "metadata": {},
   "outputs": [
    {
     "data": {
      "text/html": [
       "\n",
       "        <div>\n",
       "            <p><b>SparkContext</b></p>\n",
       "\n",
       "            <p><a href=\"http://192.168.1.130:4040\">Spark UI</a></p>\n",
       "\n",
       "            <dl>\n",
       "              <dt>Version</dt>\n",
       "                <dd><code>v3.5.0</code></dd>\n",
       "              <dt>Master</dt>\n",
       "                <dd><code>local[*]</code></dd>\n",
       "              <dt>AppName</dt>\n",
       "                <dd><code>example</code></dd>\n",
       "            </dl>\n",
       "        </div>\n",
       "        "
      ],
      "text/plain": [
       "<SparkContext master=local[*] appName=example>"
      ]
     },
     "execution_count": 12,
     "metadata": {},
     "output_type": "execute_result"
    }
   ],
   "source": [
    "sc = spark.sparkContext\n",
    "sc"
   ]
  },
  {
   "cell_type": "markdown",
   "metadata": {},
   "source": [
    "# Data info\n",
    "[link](https://dumps.wikimedia.org/other/pagecounts-raw/)"
   ]
  },
  {
   "cell_type": "code",
   "execution_count": 13,
   "metadata": {},
   "outputs": [],
   "source": [
    "path = \"file://\" + os.getcwd() + \"/ds/pagecounts-20100806-030000\"\n"
   ]
  },
  {
   "cell_type": "code",
   "execution_count": 14,
   "metadata": {},
   "outputs": [],
   "source": [
    "\n",
    "bookRDD = sc.textFile(path)"
   ]
  },
  {
   "cell_type": "code",
   "execution_count": 15,
   "metadata": {},
   "outputs": [],
   "source": [
    "sample = bookRDD.take(10)"
   ]
  },
  {
   "cell_type": "code",
   "execution_count": 16,
   "metadata": {},
   "outputs": [
    {
     "data": {
      "text/plain": [
       "['aa.b Main_Page 1 4881',\n",
       " 'aa.b Special:Contributions/Beau 1 4938',\n",
       " 'aa.b Special:WhatLinksHere/MediaWiki:Makesysopsubmit 1 4550',\n",
       " 'aa.b User:Ahoerstemeier 1 4388',\n",
       " 'aa.b User:Monobi 1 5500',\n",
       " 'aa.d Special:Contributions/Les_Meloures 1 4949',\n",
       " 'aa %D0%90%D1%80%D0%B3%D0%B0%D0%B7%D0%BC 1 655',\n",
       " 'aa Amiga_600 1 655',\n",
       " 'aa DJ_Dlee 1 653',\n",
       " 'aa Main_Page 2 9494']"
      ]
     },
     "execution_count": 16,
     "metadata": {},
     "output_type": "execute_result"
    }
   ],
   "source": [
    "sample"
   ]
  },
  {
   "cell_type": "code",
   "execution_count": 17,
   "metadata": {},
   "outputs": [
    {
     "data": {
      "text/plain": [
       "4729148"
      ]
     },
     "execution_count": 17,
     "metadata": {},
     "output_type": "execute_result"
    }
   ],
   "source": [
    "number_of_lines = bookRDD.count()\n",
    "number_of_lines"
   ]
  },
  {
   "cell_type": "code",
   "execution_count": 18,
   "metadata": {},
   "outputs": [],
   "source": [
    "enPages = bookRDD.filter(lambda x: x.startswith(\"en \"))"
   ]
  },
  {
   "cell_type": "code",
   "execution_count": 19,
   "metadata": {},
   "outputs": [
    {
     "name": "stderr",
     "output_type": "stream",
     "text": [
      "                                                                                \r"
     ]
    },
    {
     "data": {
      "text/plain": [
       "2245124"
      ]
     },
     "execution_count": 19,
     "metadata": {},
     "output_type": "execute_result"
    }
   ],
   "source": [
    "enPages.count()"
   ]
  },
  {
   "cell_type": "code",
   "execution_count": 20,
   "metadata": {},
   "outputs": [
    {
     "data": {
      "text/plain": [
       "['en ! 13 307446',\n",
       " 'en !! 2 14565',\n",
       " 'en !!! 23 356424',\n",
       " 'en !!!Fuck_You!!! 6 58373',\n",
       " 'en !!!Fuck_You!!!_and_Then_Some 1 10185',\n",
       " 'en !!!_(album) 4 29794',\n",
       " 'en !!Destroy-Oh-Boy!! 1 38670',\n",
       " 'en !%3D 2 14116',\n",
       " 'en !5_The_Blood 1 6176',\n",
       " 'en !Action_Pact! 2 18003']"
      ]
     },
     "execution_count": 20,
     "metadata": {},
     "output_type": "execute_result"
    }
   ],
   "source": [
    "enPages.take(10)"
   ]
  },
  {
   "cell_type": "code",
   "execution_count": 21,
   "metadata": {},
   "outputs": [],
   "source": [
    "enPagesTuples = enPages.map(lambda x: tuple(x.split()))\n",
    "enPagesTuples = enPagesTuples.map(lambda tupla: (tupla[0], tupla[1], int(tupla[2]), int(tupla[3])))"
   ]
  },
  {
   "cell_type": "code",
   "execution_count": 22,
   "metadata": {},
   "outputs": [
    {
     "name": "stderr",
     "output_type": "stream",
     "text": [
      "                                                                                \r"
     ]
    },
    {
     "data": {
      "text/plain": [
       "2245124"
      ]
     },
     "execution_count": 22,
     "metadata": {},
     "output_type": "execute_result"
    }
   ],
   "source": [
    "enPagesTuples.count()"
   ]
  },
  {
   "cell_type": "code",
   "execution_count": 23,
   "metadata": {},
   "outputs": [
    {
     "name": "stderr",
     "output_type": "stream",
     "text": [
      "                                                                                \r"
     ]
    }
   ],
   "source": [
    "enPagesTuplesSorted = enPagesTuples.sortBy(lambda x: x[3], ascending=False)"
   ]
  },
  {
   "cell_type": "code",
   "execution_count": 24,
   "metadata": {},
   "outputs": [
    {
     "name": "stderr",
     "output_type": "stream",
     "text": [
      "                                                                                \r"
     ]
    },
    {
     "data": {
      "text/plain": [
       "[('en', 'Main_Page', 222302, 5025224410),\n",
       " ('en', 'United_States', 4694, 2160246570),\n",
       " ('en', 'United_Kingdom', 2164, 1138630820),\n",
       " ('en', 'Canada', 1753, 688248121),\n",
       " ('en', 'England', 1401, 626431448)]"
      ]
     },
     "execution_count": 24,
     "metadata": {},
     "output_type": "execute_result"
    }
   ],
   "source": [
    "enPagesTuplesSorted.take(5)"
   ]
  },
  {
   "cell_type": "code",
   "execution_count": 25,
   "metadata": {},
   "outputs": [
    {
     "name": "stderr",
     "output_type": "stream",
     "text": [
      "                                                                                \r"
     ]
    },
    {
     "data": {
      "text/plain": [
       "('en', 'Special:Random', 405305, 218224631)"
      ]
     },
     "execution_count": 25,
     "metadata": {},
     "output_type": "execute_result"
    }
   ],
   "source": [
    "enPagesTuples.max(key=lambda x: x[2])"
   ]
  },
  {
   "cell_type": "code",
   "execution_count": 26,
   "metadata": {},
   "outputs": [],
   "source": [
    "def print_histogram(hist_data):\n",
    "    bin_edges, bin_counts = hist_data\n",
    "    for bin_start, bin_end, count in zip(bin_edges[:-1], bin_edges[1:], bin_counts):\n",
    "        print(\"[{: >8} - {: >8}): {}\".format(bin_start, bin_end, '*' * count))\n"
   ]
  },
  {
   "cell_type": "code",
   "execution_count": 27,
   "metadata": {},
   "outputs": [
    {
     "name": "stderr",
     "output_type": "stream",
     "text": [
      "                                                                                \r"
     ]
    }
   ],
   "source": [
    "pageVisits = enPagesTuples.map(lambda x: x[2])\n",
    "\n",
    "# Calculate the histogram with 20 bins\n",
    "histogram_data = pageVisits.histogram(buckets=20)\n"
   ]
  },
  {
   "cell_type": "code",
   "execution_count": 29,
   "metadata": {},
   "outputs": [
    {
     "data": {
      "text/plain": [
       "([1.0,\n",
       "  20266.2,\n",
       "  40531.4,\n",
       "  60796.600000000006,\n",
       "  81061.8,\n",
       "  101327.0,\n",
       "  121592.20000000001,\n",
       "  141857.4,\n",
       "  162122.6,\n",
       "  182387.80000000002,\n",
       "  202653.0,\n",
       "  222918.2,\n",
       "  243183.40000000002,\n",
       "  263448.60000000003,\n",
       "  283713.8,\n",
       "  303979.0,\n",
       "  324244.2,\n",
       "  344509.4,\n",
       "  364774.60000000003,\n",
       "  385039.8,\n",
       "  405305],\n",
       " [2245119, 1, 1, 0, 0, 0, 0, 0, 0, 0, 2, 0, 0, 0, 0, 0, 0, 0, 0, 1])"
      ]
     },
     "execution_count": 29,
     "metadata": {},
     "output_type": "execute_result"
    }
   ],
   "source": [
    "histogram_data"
   ]
  },
  {
   "cell_type": "code",
   "execution_count": 28,
   "metadata": {},
   "outputs": [
    {
     "data": {
      "text/plain": [
       "<bound method SparkSession.stop of <pyspark.sql.session.SparkSession object at 0x7f5fd464c280>>"
      ]
     },
     "execution_count": 28,
     "metadata": {},
     "output_type": "execute_result"
    }
   ],
   "source": [
    "spark.stop"
   ]
  }
 ],
 "metadata": {
  "kernelspec": {
   "display_name": "venv",
   "language": "python",
   "name": "python3"
  },
  "language_info": {
   "codemirror_mode": {
    "name": "ipython",
    "version": 3
   },
   "file_extension": ".py",
   "mimetype": "text/x-python",
   "name": "python",
   "nbconvert_exporter": "python",
   "pygments_lexer": "ipython3",
   "version": "3.10.12"
  }
 },
 "nbformat": 4,
 "nbformat_minor": 2
}
